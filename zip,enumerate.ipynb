{
 "cells": [
  {
   "cell_type": "code",
   "execution_count": 3,
   "metadata": {},
   "outputs": [
    {
     "name": "stdout",
     "output_type": "stream",
     "text": [
      "[('bananas', 15), ('mattresses', 34), ('dog kennels', 42), ('machine', 120), ('cheeses', 5)]\n"
     ]
    }
   ],
   "source": [
    "items=[\"bananas\",\"mattresses\",\"dog kennels\",\"machine\",\"cheeses\"]\n",
    "weights=[15,34,42,120,5]\n",
    "print(list(zip(items,weights)))"
   ]
  },
  {
   "cell_type": "code",
   "execution_count": 4,
   "metadata": {},
   "outputs": [
    {
     "name": "stdout",
     "output_type": "stream",
     "text": [
      "('bananas', 'mattresses', 'dog kennels', 'machine', 'cheeses')\n",
      "(15, 34, 42, 120, 5)\n"
     ]
    }
   ],
   "source": [
    "manifest=[('bananas', 15), ('mattresses', 34), ('dog kennels', 42), ('machine', 120), ('cheeses', 5)]\n",
    "items,weights=zip(*manifest)\n",
    "print(items)\n",
    "print(weights)"
   ]
  },
  {
   "cell_type": "code",
   "execution_count": 5,
   "metadata": {},
   "outputs": [
    {
     "name": "stdout",
     "output_type": "stream",
     "text": [
      "0 bananas\n",
      "1 mattresses\n",
      "2 dog kennels\n",
      "3 machine\n",
      "4 cheeses\n"
     ]
    }
   ],
   "source": [
    "items=[\"bananas\",\"mattresses\",\"dog kennels\",\"machine\",\"cheeses\"]\n",
    "for i,item in zip(range(len(items)),items):\n",
    "    print(i,item)"
   ]
  },
  {
   "cell_type": "code",
   "execution_count": 6,
   "metadata": {},
   "outputs": [
    {
     "name": "stdout",
     "output_type": "stream",
     "text": [
      "0 bananas\n",
      "1 mattresses\n",
      "2 dog kennels\n",
      "3 machine\n",
      "4 cheeses\n"
     ]
    }
   ],
   "source": [
    "items=[\"bananas\",\"mattresses\",\"dog kennels\",\"machine\",\"cheeses\"]\n",
    "for i,item in enumerate(items):\n",
    "    print(i,item)"
   ]
  },
  {
   "cell_type": "code",
   "execution_count": null,
   "metadata": {},
   "outputs": [],
   "source": []
  }
 ],
 "metadata": {
  "kernelspec": {
   "display_name": "Python 3",
   "language": "python",
   "name": "python3"
  },
  "language_info": {
   "codemirror_mode": {
    "name": "ipython",
    "version": 3
   },
   "file_extension": ".py",
   "mimetype": "text/x-python",
   "name": "python",
   "nbconvert_exporter": "python",
   "pygments_lexer": "ipython3",
   "version": "3.7.0"
  }
 },
 "nbformat": 4,
 "nbformat_minor": 2
}
