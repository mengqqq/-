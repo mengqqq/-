{
 "cells": [
  {
   "cell_type": "code",
   "execution_count": 2,
   "metadata": {},
   "outputs": [
    {
     "name": "stdout",
     "output_type": "stream",
     "text": [
      "Found a fruit\n",
      "Found a fruit\n",
      "Not a fruit\n",
      "Not a fruit\n"
     ]
    }
   ],
   "source": [
    "fruit=[\"orange\",\"strawberry\",\"apple\"]\n",
    "foods=[\"apple\",\"apple\",\"hummus\",\"toast\"]\n",
    "fruit_count=0\n",
    "for food in foods:\n",
    "    if food not in fruit:\n",
    "        print(\"Not a fruit\")\n",
    "        continue\n",
    "    fruit_count+=1\n",
    "    print(\"Found a fruit\")\n",
    "    "
   ]
  },
  {
   "cell_type": "code",
   "execution_count": null,
   "metadata": {},
   "outputs": [],
   "source": []
  }
 ],
 "metadata": {
  "kernelspec": {
   "display_name": "Python 3",
   "language": "python",
   "name": "python3"
  },
  "language_info": {
   "codemirror_mode": {
    "name": "ipython",
    "version": 3
   },
   "file_extension": ".py",
   "mimetype": "text/x-python",
   "name": "python",
   "nbconvert_exporter": "python",
   "pygments_lexer": "ipython3",
   "version": "3.7.0"
  }
 },
 "nbformat": 4,
 "nbformat_minor": 2
}
